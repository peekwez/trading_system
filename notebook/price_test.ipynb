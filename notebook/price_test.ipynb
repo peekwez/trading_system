{
 "cells": [
  {
   "cell_type": "code",
   "execution_count": 8,
   "metadata": {
    "collapsed": true
   },
   "outputs": [],
   "source": [
    "import urllib\n",
    "\n",
    "base_url = \"http://ichart.finance.yahoo.com/table.csv?s=\"\n",
    "def make_url(ticker_symbol):\n",
    "    return base_url + ticker_symbol\n",
    "\n",
    "output_path = \"/home/luciano/Desktop/myproject/trading_system/db\"\n",
    "def make_filename(ticker_symbol, directory=\"S&P\"):\n",
    "    return output_path + \"/\" + directory + \"/\" + ticker_symbol + \".csv\"\n",
    "\n",
    "def pull_historical_data(ticker_symbol, directory=\"S&P\"):\n",
    "    try:\n",
    "        urllib.urlretrieve(make_url(ticker_symbol), make_filename(ticker_symbol, directory))\n",
    "    except urllib.ContentTooShortError as e:\n",
    "        outfile = open(make_filename(ticker_symbol, directory), \"w\")\n",
    "        outfile.write(e.content)\n",
    "        outfile.close()"
   ]
  },
  {
   "cell_type": "code",
   "execution_count": 9,
   "metadata": {
    "collapsed": false
   },
   "outputs": [],
   "source": [
    "pull_historical_data(\"AAPL\",\"utils\")"
   ]
  },
  {
   "cell_type": "code",
   "execution_count": null,
   "metadata": {
    "collapsed": true
   },
   "outputs": [],
   "source": []
  }
 ],
 "metadata": {
  "kernelspec": {
   "display_name": "Python 2",
   "language": "python",
   "name": "python2"
  },
  "language_info": {
   "codemirror_mode": {
    "name": "ipython",
    "version": 2
   },
   "file_extension": ".py",
   "mimetype": "text/x-python",
   "name": "python",
   "nbconvert_exporter": "python",
   "pygments_lexer": "ipython2",
   "version": "2.7.6"
  }
 },
 "nbformat": 4,
 "nbformat_minor": 0
}
